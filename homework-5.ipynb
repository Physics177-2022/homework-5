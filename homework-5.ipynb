{
 "cells": [
  {
   "cell_type": "markdown",
   "metadata": {},
   "source": [
    "# Homework 5: Statistical physics of a rubber band\n",
    " **Due Friday, May 6**  \n",
    " \n",
    "*Enter your name here*\n",
    "\n",
    "### Homework checklist\n",
    "\n",
    "Before submitting, make sure that you\n",
    "\n",
    "- Fill in your name in the space above\n",
    "- Cite any resources that you used while working on this homework\n",
    "- 1.a. Fill in the code to compute average length\n",
    "- 1.b. Compute the variance of the length\n",
    "- 2.a. Write your expectations\n",
    "- 2.b. Fill in code to run the Monte Carlo sampling\n",
    "- 2.b. Explain your results\n",
    "- 3.a. Fill in code to compute the probabilities\n",
    "- 3.b. Repeat the Monte Carlo sampling with new parameters\n",
    "- 4.a. Fill in code to compute the average length\n",
    "- 4.b. Compute the \"baseline\" spring constant\n",
    "- 4.c. Compute the spring constant when the band has more links\n",
    "- 4.c. Interpret your results\n",
    "- 4.d. Compute the spring constant when the temperature is higher\n",
    "- 4.d. Interpret your results"
   ]
  },
  {
   "cell_type": "markdown",
   "metadata": {},
   "source": [
    "## Discussion\n",
    "\n",
    "In classical mechanics we learn about [Hooke's law](https://en.wikipedia.org/wiki/Hooke%27s_law),  \n",
    "\n",
    "$$\n",
    "F = - k \\Delta x\n",
    "$$  \n",
    "\n",
    "which describes the restoring force on a spring that is stretched by a distance $\\Delta x$ away from its equilibrium point. In this homework assignment, we'll develop a simple statistical model of a \"rubber band,\" which acts like a spring under small displacements.\n",
    "\n",
    "Let's imagine that our rubber band is described microscopically by $N$ links that can be oriented along a long axis (with length $2\\ell$) or a short axis (with length $\\ell$). The total length of the rubber band is then \n",
    "\n",
    "$$\n",
    "L = \\sum_{i=1}^N \\ell \\left(1+\\sigma_i\\right)\\,,\n",
    "$$ \n",
    "\n",
    "where $\\sigma_i$ is equal to $1$ if the $i$th link is oriented along the long axis, and $0$ if it is oriented along the short axis. When there is no external force on the band, then the energy of both states is the same.\n",
    "\n",
    "When there is no force the probability of any configuration $\\underline{\\sigma} = \\{\\sigma_1, \\sigma_2, \\ldots, \\sigma_N\\}$ is given by the Gibbs distribution:\n",
    "\n",
    "$$\n",
    "P(\\underline{\\sigma}) = \\frac{1}{2^N}\\,,\n",
    "$$\n",
    "\n",
    "as all configurations have equal energies, and there are 2 possible states for each link (and thus $2^N$ possible configurations of all $N$ links)."
   ]
  },
  {
   "cell_type": "markdown",
   "metadata": {},
   "source": [
    "## 1. The length distribution\n",
    "\n",
    "To begin, let's consider a band with $N=5$ links, and set $\\ell=1$. We want to know the probability of the different lengths that the band can have. \n",
    "\n",
    "We'll use [binomial coefficients](https://en.wikipedia.org/wiki/Binomial_coefficient) to make the calculation easier. The binomial coefficient\n",
    "\n",
    "$$ \\binom{n}{k} = \\frac{n!}{k! (n-k)!} $$\n",
    "\n",
    "gives the number of ways to choose $k$ elements out of a set with total size $n$. So, for example, there are $\\binom{5}{1} = 5$ possible ways to have *one* open link out of *five* total links in the rubber band. We can use the package `scipy` to quickly compute binomial coefficients with the function `scipy.special.binom`.\n",
    "\n",
    "### 1.a. Computing the average length\n",
    "\n",
    "Fill in the code below to compute the average length of the band. Recall that this is given by\n",
    "\n",
    "$$\n",
    "\\langle L(\\underline{\\sigma}) \\rangle = \\sum_{\\underline{\\sigma}} L(\\underline{\\sigma}) P(\\underline{\\sigma})\\,.\n",
    "$$"
   ]
  },
  {
   "cell_type": "code",
   "execution_count": null,
   "metadata": {},
   "outputs": [],
   "source": [
    "import scipy\n",
    "\n",
    "N   = 5  # number of links in the rubber band\n",
    "ell = 1  # length scale for each link\n",
    "\n",
    "p = # FILL THIS IN, probability of any single configuration\n",
    "\n",
    "\n",
    "# Now let's compute the average length\n",
    "\n",
    "avg_length = # FILL THIS IN, initialize the average length\n",
    "\n",
    "for i in range(N+1):\n",
    "    ell_i = # FILL THIS IN, length of the band when i links are oriented along the long axis \n",
    "            # and N-i are oriented along the short axis\n",
    "        \n",
    "    p_i = p * scipy.special.binom(N, i) # number of configurations with i long/N-i short links\n",
    "    \n",
    "    avg_length = avg_length + (p_i * ell_i) \n",
    "\n",
    "\n",
    "print('The average length is %.1f' % avg_length)"
   ]
  },
  {
   "cell_type": "markdown",
   "metadata": {},
   "source": [
    "### 1.b. Computing the variance in the length\n",
    "\n",
    "How different is the typical length of the band from its average, `avg_length`, which was computed above? This is quantified by the *variance* of the length:\n",
    "\n",
    "$$\n",
    "\\left\\langle \\left(L(\\underline{\\sigma}) - \\langle L(\\underline{\\sigma})\\rangle\\right)^2\\right\\rangle = \\left\\langle L(\\underline{\\sigma})^2\\right\\rangle - \\left\\langle L(\\underline{\\sigma})\\right\\rangle^2.\n",
    "$$\n",
    "\n",
    "Fill in the code below to compute the variance in the length of the band."
   ]
  },
  {
   "cell_type": "code",
   "execution_count": null,
   "metadata": {},
   "outputs": [],
   "source": [
    "import scipy\n",
    "import numpy as np\n",
    "\n",
    "avg_length_squared = # FILL THIS IN, initialize average length^2\n",
    "\n",
    "\n",
    "for i in range(N+1):\n",
    "    ell_i = # FILL THIS IN, length of the band when i links are oriented along the long axis \n",
    "            # and N-i are oriented along the short axis\n",
    "        \n",
    "    p_i = p * scipy.special.binom(N, i) # number of configurations with i long/N-i short links\n",
    "    \n",
    "    avg_length_squared = avg_length_squared + (p_i * (ell_i**2))\n",
    "    \n",
    "var_length = # FILL THIS IN, variance of the length of the band\n",
    "\n",
    "\n",
    "print('The variance of the length is %.2f' % var_length)\n",
    "print('This means that a typical configuration has a length that differs by %.2f from the average' \n",
    "      % np.sqrt(var_length))"
   ]
  },
  {
   "cell_type": "markdown",
   "metadata": {},
   "source": [
    "## 2. Extending the rubber band\n",
    "\n",
    "### 2.a. Extrapolation\n",
    "\n",
    "Based on problems 1.a and 1.b above, you should find that the typical length of the rubber band with $N=5$ links differs by around 15% of the average length of the band. How do you expect the size of the fluctuations relative to the average length of the band to change as we increase the number of lengths $N$? Fill in your answer in the Markdown cell below. \n",
    "\n",
    "*Hint*: If the answer isn't clear yet, consider experimenting with different values of $N$."
   ]
  },
  {
   "cell_type": "markdown",
   "metadata": {},
   "source": [
    "**YOUR ANSWER HERE**"
   ]
  },
  {
   "cell_type": "markdown",
   "metadata": {},
   "source": [
    "### 2.b. Monte Carlo sampling for a long band\n",
    "\n",
    "Let's consider what would happen if our rubber band was much longer -- for example, we'll consider a band with $N=100$ links. Clearly, we can't enumerate all $2^{100}\\approx 10^{30}$ configurations of the band. We could cleverly do this calculation using binomial distributions, but for this problem we'll use *Monte Carlo sampling*. \n",
    "\n",
    "You might have noticed that the probability distribution over configurations is a **product distribution**,\n",
    "\n",
    "$$ \n",
    "P(\\underline{\\sigma}) = P(\\sigma_1)\\times P(\\sigma_2) \\times \\ldots \\times P(\\sigma_N)\\,, \n",
    "$$\n",
    "\n",
    "with\n",
    "\n",
    "$$\n",
    "P(\\sigma_i=0) = P(\\sigma_i=1) = \\frac{1}{2}\\,.\n",
    "$$\n",
    "\n",
    "This is because the orientation of each link in the band is independent of the others. Because each link is independent, we can sample random configurations from the distribution $P(\\underline{\\sigma})$ by sampling each of the $\\sigma_i$ independently, according to $P(\\sigma_i)$.\n",
    "\n",
    "Fill in the code below to generate a random sample of configurations. We'll then use the random sample to plot the distribution of lengths that we find."
   ]
  },
  {
   "cell_type": "code",
   "execution_count": null,
   "metadata": {},
   "outputs": [],
   "source": [
    "import numpy\n",
    "import seaborn as sns\n",
    "import matplotlib.pyplot as plt\n",
    "\n",
    "N = 100 # number of links\n",
    "\n",
    "p_long               = # FILL THIS IN, probability of a long link\n",
    "p_short              = # FILL THIS IN, probability of a short link\n",
    "length_probabilities = [p_short, p_long] # probability of a short or a long link\n",
    "possible_lengths     = [    ell,  2*ell] # each link in the band can have length ell (short axis) or 2*ell (long axis)\n",
    "\n",
    "n_configs      = 10000 # randomly sample 10000 configurations\n",
    "sample_lengths = []    # store the length for each random configuration here\n",
    "\n",
    "for i in range(n_configs):\n",
    "    random_lengths = numpy.random.choice(possible_lengths, p=length_probabilities, size=N)\n",
    "    total_length   = np.sum(random_lengths)\n",
    "    sample_lengths.append(total_length)\n",
    "    \n",
    "sns.distplot(sample_lengths, bins=np.arange(130, 170, 1), norm_hist=True, kde=False)\n",
    "plt.title(r'Length distribution for $10^4$ random configurations')\n",
    "plt.xlabel('length')\n",
    "plt.ylabel('frequency');"
   ]
  },
  {
   "cell_type": "markdown",
   "metadata": {},
   "source": [
    "Explain the length distribution in the Markdown cell below. Does the average length agree with your expectation?"
   ]
  },
  {
   "cell_type": "markdown",
   "metadata": {},
   "source": [
    "**YOUR ANSWER HERE**"
   ]
  },
  {
   "cell_type": "markdown",
   "metadata": {},
   "source": [
    "## 3. Stretching the rubber band\n",
    "\n",
    "Now let's imagine that we induce the rubber band to stretch by making the energy of a link decrease slightly when it's in the long orientation instead of the short one. We can model this by introducing a new energy function,\n",
    "\n",
    "$$\n",
    "E(\\underline{\\sigma}) = -\\sum_{i=1}^N \\epsilon \\sigma_i\\,.\n",
    "$$\n",
    "\n",
    "Recall that $\\sigma_i=1$ if the $i$th link is oriented along the long axis, and $\\sigma_i=0$ if it is oriented along the short axis. This is like \"pulling\" on the rubber band with a force \n",
    "\n",
    "$$\n",
    "F = -\\frac{dU}{dx} = \\frac{\\epsilon}{\\ell}\\,,\n",
    "$$ \n",
    "\n",
    "because the energy decreases by $\\epsilon$ every time the band increases by $\\ell$ in length.\n",
    "\n",
    "Once again, the distribution for $P(\\underline{\\sigma})$ is a product distribution because there is no interaction between the links. The goal of this section is to figure out how much the rubber band stretches, depending on how much energy we put into it.\n",
    "\n",
    "### 3.a. Finding the probability distribution for $\\sigma_i$\n",
    "\n",
    "Because $P(\\underline{\\sigma})$ is again a product distribution, we can compute the length distribution of the band again using the same approach as in problem 2.b. We'll do this in a number of steps. First, let's find the probability for each link to be aligned along the short or long axis as a function of the energy bias $\\epsilon$.\n",
    "\n",
    "Fill in the code below to compute the probabilities."
   ]
  },
  {
   "cell_type": "code",
   "execution_count": null,
   "metadata": {},
   "outputs": [],
   "source": [
    "# Ignoring the rest of the system, what is the energy of a single link in the long and short orientations?\n",
    "\n",
    "def get_probabilities(epsilon, T):\n",
    "    \"\"\" Returns the probability of a single link in the band to be oriented along the short axis\n",
    "        or the long axis, as a function of the energy bias epsilon and the temperature T \"\"\"\n",
    "    \n",
    "    E_long  = # FILL THIS IN based on the information in section 3\n",
    "    E_short = # FILL THIS IN based on the information in section 3\n",
    "    Z       = # FILL THIS IN, normalization of the probability distribution\n",
    "    \n",
    "    p_long  = np.exp( -E_long/T) / Z\n",
    "    p_short = np.exp(-E_short/T) / Z\n",
    "    \n",
    "    return p_long, p_short"
   ]
  },
  {
   "cell_type": "markdown",
   "metadata": {},
   "source": [
    "### 3.b. Monte Carlo sampling from the length distribution\n",
    "\n",
    "Copy your code from problem 2.b and paste it in the cell below plot the length distribution for the rubber band when $\\epsilon=0.2$ and $T=1$. As in problem 2.b, we'll assume that we have $N=100$ links in our rubber band.\n",
    "\n",
    "**Note: we have to replace the previous values of `p_long` and `p_short` to get the correct answer.**"
   ]
  },
  {
   "cell_type": "code",
   "execution_count": null,
   "metadata": {},
   "outputs": [],
   "source": [
    "# Get p_long and p_short for this value of epsilon and T!\n",
    "\n",
    "p_long, p_short = get_probabilities(epsilon=0.2, T=1)\n",
    "\n",
    "# <Your code from problem 2.b here> \n",
    "# Remember to use the new values of p_long and p_short!"
   ]
  },
  {
   "cell_type": "markdown",
   "metadata": {},
   "source": [
    "## 4. Surprising \"spring\" properties\n",
    "\n",
    "Now, we'll compute the \"spring constant\" of the rubber band, which is valid for small displacements/pulling forces. Above we noted that setting the energy of the long state to $-\\epsilon$ is like pulling on the rubber band with a force $\\epsilon/\\ell$. As the rubber band stretches it resists this pulling, until equilibrium is reached when\n",
    "\n",
    "$$\n",
    "F_{\\rm pull} + F_{\\rm spring} = \\frac{\\epsilon}{\\ell} - k \\Delta L = 0\\,.\n",
    "$$\n",
    "\n",
    "Thus, to find the spring constant $k$ we can compute the change in the length of the band $\\Delta L$ for some (small) value of $\\epsilon$ and divide,\n",
    "\n",
    "$$\n",
    "k = \\frac{\\epsilon}{\\ell \\times \\Delta L}\\,.\n",
    "$$\n",
    "\n",
    "### 4.a. Computing the average length\n",
    "\n",
    "Because $P(\\underline{\\sigma})$ is a product distribution, the average length of the band is\n",
    "\n",
    "$$\n",
    "\\langle L(\\underline{\\sigma}) \\rangle = N \\sum_{\\sigma\\in\\{0,1\\}} (1+\\sigma) \\ell P(\\sigma)\\,.\n",
    "$$\n",
    "\n",
    "You already computed $P(\\sigma)$ with your function `get_probabilities` in problem 3.a. $P(\\sigma=1)$ is `p_long` and $P(\\sigma=0)$ is `p_short`. Using the `get_probabilities` function, fill in the code below to find the average length of a band with $N$ links, at temperature $T$, with the energy of the long orientation given by $-\\epsilon$."
   ]
  },
  {
   "cell_type": "code",
   "execution_count": null,
   "metadata": {},
   "outputs": [],
   "source": [
    "def get_length(N, epsilon, T):\n",
    "    \"\"\" Returns the average length of the band with N links at temperature T,\n",
    "        when the energy of the long orientation is epsilon lower than the short one. \"\"\"\n",
    "    \n",
    "    p_long, p_short = get_probabilities(epsilon, T)\n",
    "    \n",
    "    avg_length = # FILL THIS IN, using the formula above\n",
    "    \n",
    "    return avg_length"
   ]
  },
  {
   "cell_type": "markdown",
   "metadata": {},
   "source": [
    "### 4.b. The spring constant\n",
    "\n",
    "Now, we'll choose a small $\\epsilon=0.01$ and use the change in the length of the band to compute the spring constant. Our \"baseline\" value will be at $N=100$ and $T=1$.\n",
    "\n",
    "Fill in the code below to compute the spring constant."
   ]
  },
  {
   "cell_type": "code",
   "execution_count": null,
   "metadata": {},
   "outputs": [],
   "source": [
    "N = 100 # number of links\n",
    "T = 1   # temperature\n",
    "epsilon = 0.01 # pulling energy\n",
    "\n",
    "length_0 = get_length(N,       0, T) # the length of the band at rest\n",
    "length_1 = get_length(N, epsilon, T) # the length of the band when it is stretched\n",
    "\n",
    "k = # FILL THIS IN, expression for the spring constant\n",
    "\n",
    "print('The spring constant is %lf.' % k)"
   ]
  },
  {
   "cell_type": "markdown",
   "metadata": {},
   "source": [
    "### 4.c. Changing the number of links\n",
    "\n",
    "How does the spring constant change if we make the band longer? Copy your code from 4.b and run it with $N=200$."
   ]
  },
  {
   "cell_type": "code",
   "execution_count": null,
   "metadata": {},
   "outputs": [],
   "source": [
    "# <Your code here>"
   ]
  },
  {
   "cell_type": "markdown",
   "metadata": {},
   "source": [
    "How do you interpret this result? Is the spring constant larger (i.e., stiffer), smaller (i.e., looser), or the same? Does this make sense? Fill in your answer in the Markdown cell below."
   ]
  },
  {
   "cell_type": "markdown",
   "metadata": {},
   "source": [
    "**YOUR ANSWER HERE**"
   ]
  },
  {
   "cell_type": "markdown",
   "metadata": {},
   "source": [
    "### 4.d. Changing the temperature\n",
    "\n",
    "How does the spring constant change if we change the temperature? Copy your code from 4.b and run it with $T=2$."
   ]
  },
  {
   "cell_type": "code",
   "execution_count": null,
   "metadata": {},
   "outputs": [],
   "source": [
    "# <Your code here>"
   ]
  },
  {
   "cell_type": "markdown",
   "metadata": {},
   "source": [
    "How do you interpret this result? Is the spring constant larger (i.e., stiffer), smaller (i.e., looser), or the same? *This time, the answer might be surprising!* The reason is that the rubber band resists being pulled because of *entropy*. Our model is a very simple example of a polymer or [ideal chain](https://en.wikipedia.org/wiki/Ideal_chain). Fill in your answer in the Markdown cell below."
   ]
  },
  {
   "cell_type": "markdown",
   "metadata": {},
   "source": [
    "**YOUR ANSWER HERE**"
   ]
  }
 ],
 "metadata": {
  "kernelspec": {
   "display_name": "Python 3 (ipykernel)",
   "language": "python",
   "name": "python3"
  },
  "language_info": {
   "codemirror_mode": {
    "name": "ipython",
    "version": 3
   },
   "file_extension": ".py",
   "mimetype": "text/x-python",
   "name": "python",
   "nbconvert_exporter": "python",
   "pygments_lexer": "ipython3",
   "version": "3.9.12"
  }
 },
 "nbformat": 4,
 "nbformat_minor": 2
}
